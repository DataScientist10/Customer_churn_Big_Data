{
  "nbformat": 4,
  "nbformat_minor": 0,
  "metadata": {
    "colab": {
      "name": "Customer_Churn_with_Big_Data",
      "provenance": []
    },
    "kernelspec": {
      "name": "python3",
      "display_name": "Python 3"
    }
  },
  "cells": [
    {
      "cell_type": "code",
      "metadata": {
        "id": "UGuYLPnKJmF5",
        "colab_type": "code",
        "colab": {}
      },
      "source": [
        ""
      ],
      "execution_count": 0,
      "outputs": []
    },
    {
      "cell_type": "markdown",
      "metadata": {
        "id": "FSdiwI6rJoWj",
        "colab_type": "text"
      },
      "source": [
        "This project is targeted on the telecommunication industry aiming at attempting to predict customer churn using big data tool. What are the chances that a customer will leave and stop using our services or stay and continue consuming our services. What is the significance of predicting customer churn? Like in any other business predicting potential bad events happening is paramount in strategizing a solution before the problem occurring. This adds value to the business in that it prepares the business to fair its storms and continue providing customers with excellent service. It also creates opportunities to learn and understand consumer behavior. \n",
        "In predicting customer churn will utilize Spark Python DataFrame API and incorporate jupyter notebook for data exploration. We will also utilize a machine learning library such as random forest, Gradient Boosted Tree Classifier and potentially use other algorithms within MLLib library to achieve our objective of prediction.\n",
        "We will use the famous data set used for telecommunication demonstration and the dataset was downloaded from https://raw.githubusercontent.com/navdeep-G/customer-churn/master/data/TelcoChurn.csv.\n",
        "\n"
      ]
    },
    {
      "cell_type": "markdown",
      "metadata": {
        "id": "kmzOAW3pLFLS",
        "colab_type": "text"
      },
      "source": [
        "**Set up the enviroment**"
      ]
    },
    {
      "cell_type": "code",
      "metadata": {
        "id": "-7r5156hLYrS",
        "colab_type": "code",
        "colab": {
          "base_uri": "https://localhost:8080/",
          "height": 336
        },
        "outputId": "c2562fc7-cef4-4336-b5a6-b0206b02c0d8"
      },
      "source": [
        "# Installing Spark\n",
        "!apt-get update\n",
        "!apt-get install openjdk-8-jdk-headless -qq > /dev/null\n",
        "!wget -q http://archive.apache.org/dist/spark/spark-2.3.1/spark-2.3.1-bin-hadoop2.7.tgz\n",
        "!tar xf spark-2.3.1-bin-hadoop2.7.tgz\n",
        "!pip install -q findspark"
      ],
      "execution_count": 3,
      "outputs": [
        {
          "output_type": "stream",
          "text": [
            "\r0% [Working]\r            \rGet:1 https://cloud.r-project.org/bin/linux/ubuntu bionic-cran35/ InRelease [3,626 B]\n",
            "\r0% [Connecting to archive.ubuntu.com (91.189.88.24)] [Connecting to security.ub\r0% [Connecting to archive.ubuntu.com (91.189.88.24)] [Connecting to security.ub\r0% [1 InRelease gpgv 3,626 B] [Connecting to archive.ubuntu.com (91.189.88.24)]\r                                                                               \rIgn:2 https://developer.download.nvidia.com/compute/cuda/repos/ubuntu1804/x86_64  InRelease\n",
            "\r0% [1 InRelease gpgv 3,626 B] [Connecting to archive.ubuntu.com (91.189.88.24)]\r                                                                               \rIgn:3 https://developer.download.nvidia.com/compute/machine-learning/repos/ubuntu1804/x86_64  InRelease\n",
            "\r0% [1 InRelease gpgv 3,626 B] [Waiting for headers] [Connecting to security.ubu\r                                                                               \rHit:4 https://developer.download.nvidia.com/compute/cuda/repos/ubuntu1804/x86_64  Release\n",
            "Hit:5 https://developer.download.nvidia.com/compute/machine-learning/repos/ubuntu1804/x86_64  Release\n",
            "Get:6 http://ppa.launchpad.net/graphics-drivers/ppa/ubuntu bionic InRelease [21.3 kB]\n",
            "Hit:7 http://archive.ubuntu.com/ubuntu bionic InRelease\n",
            "Get:8 http://security.ubuntu.com/ubuntu bionic-security InRelease [88.7 kB]\n",
            "Get:9 http://archive.ubuntu.com/ubuntu bionic-updates InRelease [88.7 kB]\n",
            "Get:12 http://ppa.launchpad.net/marutter/c2d4u3.5/ubuntu bionic InRelease [15.4 kB]\n",
            "Get:13 http://archive.ubuntu.com/ubuntu bionic-backports InRelease [74.6 kB]\n",
            "Get:14 http://ppa.launchpad.net/graphics-drivers/ppa/ubuntu bionic/main amd64 Packages [37.1 kB]\n",
            "Get:15 http://security.ubuntu.com/ubuntu bionic-security/main amd64 Packages [836 kB]\n",
            "Get:16 http://archive.ubuntu.com/ubuntu bionic-updates/main amd64 Packages [1,128 kB]\n",
            "Get:17 http://ppa.launchpad.net/marutter/c2d4u3.5/ubuntu bionic/main Sources [1,781 kB]\n",
            "Get:18 http://archive.ubuntu.com/ubuntu bionic-updates/universe amd64 Packages [1,351 kB]\n",
            "Get:19 http://ppa.launchpad.net/marutter/c2d4u3.5/ubuntu bionic/main amd64 Packages [860 kB]\n",
            "Fetched 6,287 kB in 4s (1,558 kB/s)\n",
            "Reading package lists... Done\n"
          ],
          "name": "stdout"
        }
      ]
    },
    {
      "cell_type": "code",
      "metadata": {
        "id": "nJVPh3ONRda6",
        "colab_type": "code",
        "colab": {
          "base_uri": "https://localhost:8080/",
          "height": 214
        },
        "outputId": "912f6abb-963d-4b17-b4af-d7a915d0aeba"
      },
      "source": [
        "import os\n",
        "os.environ[\"JAVA_HOME\"] = \"/usr/lib/jvm/java-8-openjdk-amd64\"\n",
        "os.environ[\"SPARK_HOME\"] = \"/content/spark-2.3.1-bin-hadoop2.7\"\n",
        "\n",
        "import findspark\n",
        "findspark.init()\n",
        "from pyspark import SparkContext\n",
        "sc = SparkContext.getOrCreate()\n",
        "\n",
        "import pyspark\n",
        "from pyspark.sql import SparkSession\n",
        "spark = SparkSession.builder.getOrCreate() \n",
        "spark"
      ],
      "execution_count": 4,
      "outputs": [
        {
          "output_type": "execute_result",
          "data": {
            "text/html": [
              "\n",
              "            <div>\n",
              "                <p><b>SparkSession - in-memory</b></p>\n",
              "                \n",
              "        <div>\n",
              "            <p><b>SparkContext</b></p>\n",
              "\n",
              "            <p><a href=\"http://9fd1ad404af9:4040\">Spark UI</a></p>\n",
              "\n",
              "            <dl>\n",
              "              <dt>Version</dt>\n",
              "                <dd><code>v2.3.1</code></dd>\n",
              "              <dt>Master</dt>\n",
              "                <dd><code>local[*]</code></dd>\n",
              "              <dt>AppName</dt>\n",
              "                <dd><code>pyspark-shell</code></dd>\n",
              "            </dl>\n",
              "        </div>\n",
              "        \n",
              "            </div>\n",
              "        "
            ],
            "text/plain": [
              "<pyspark.sql.session.SparkSession at 0x7f7dc20324a8>"
            ]
          },
          "metadata": {
            "tags": []
          },
          "execution_count": 4
        }
      ]
    },
    {
      "cell_type": "markdown",
      "metadata": {
        "id": "oAqsgwdGWVah",
        "colab_type": "text"
      },
      "source": [
        "**Uploading the dataset**"
      ]
    },
    {
      "cell_type": "code",
      "metadata": {
        "id": "wkzycyfKTNhS",
        "colab_type": "code",
        "colab": {
          "base_uri": "https://localhost:8080/",
          "height": 202
        },
        "outputId": "94942a09-afa1-45e1-90e0-2c708434fad8"
      },
      "source": [
        "!wget https://raw.githubusercontent.com/navdeep-G/customer-churn/master/data/TelcoChurn.csv"
      ],
      "execution_count": 5,
      "outputs": [
        {
          "output_type": "stream",
          "text": [
            "--2020-03-09 10:15:32--  https://raw.githubusercontent.com/navdeep-G/customer-churn/master/data/TelcoChurn.csv\n",
            "Resolving raw.githubusercontent.com (raw.githubusercontent.com)... 151.101.0.133, 151.101.64.133, 151.101.128.133, ...\n",
            "Connecting to raw.githubusercontent.com (raw.githubusercontent.com)|151.101.0.133|:443... connected.\n",
            "HTTP request sent, awaiting response... 200 OK\n",
            "Length: 970457 (948K) [text/plain]\n",
            "Saving to: ‘TelcoChurn.csv’\n",
            "\n",
            "\rTelcoChurn.csv        0%[                    ]       0  --.-KB/s               \rTelcoChurn.csv      100%[===================>] 947.71K  --.-KB/s    in 0.07s   \n",
            "\n",
            "2020-03-09 10:15:33 (12.8 MB/s) - ‘TelcoChurn.csv’ saved [970457/970457]\n",
            "\n"
          ],
          "name": "stdout"
        }
      ]
    },
    {
      "cell_type": "code",
      "metadata": {
        "id": "Uf3nGBHtW8Rt",
        "colab_type": "code",
        "colab": {
          "base_uri": "https://localhost:8080/",
          "height": 50
        },
        "outputId": "de661682-25ea-46bf-947c-09ee52bccdcf"
      },
      "source": [
        "!ls\n"
      ],
      "execution_count": 51,
      "outputs": [
        {
          "output_type": "stream",
          "text": [
            "churn.csv    spark-2.3.1-bin-hadoop2.7\t    spark-warehouse\n",
            "sample_data  spark-2.3.1-bin-hadoop2.7.tgz\n"
          ],
          "name": "stdout"
        }
      ]
    },
    {
      "cell_type": "code",
      "metadata": {
        "id": "UnbjJTD0aery",
        "colab_type": "code",
        "colab": {}
      },
      "source": [
        "# Changing the dataset name\n",
        "!mv TelcoChurn.csv churn.csv"
      ],
      "execution_count": 0,
      "outputs": []
    },
    {
      "cell_type": "code",
      "metadata": {
        "id": "aRetcV6bbtFQ",
        "colab_type": "code",
        "colab": {
          "base_uri": "https://localhost:8080/",
          "height": 222
        },
        "outputId": "d38d866a-8eaf-4b3c-8dfa-10b6eb828442"
      },
      "source": [
        "#Making sure the file was downloaded correctly\n",
        "churn_df = spark.read.csv('churn.csv',header=True,inferSchema=True)\n",
        "churn_df.show(5)"
      ],
      "execution_count": 52,
      "outputs": [
        {
          "output_type": "stream",
          "text": [
            "+----------+------+-------------+-------+----------+------+------------+----------------+---------------+--------------+------------+----------------+-----------+-----------+---------------+--------------+----------------+--------------------+--------------+------------+-----+\n",
            "|customerID|gender|SeniorCitizen|Partner|Dependents|tenure|PhoneService|   MultipleLines|InternetService|OnlineSecurity|OnlineBackup|DeviceProtection|TechSupport|StreamingTV|StreamingMovies|      Contract|PaperlessBilling|       PaymentMethod|MonthlyCharges|TotalCharges|Churn|\n",
            "+----------+------+-------------+-------+----------+------+------------+----------------+---------------+--------------+------------+----------------+-----------+-----------+---------------+--------------+----------------+--------------------+--------------+------------+-----+\n",
            "|7590-VHVEG|Female|            0|    Yes|        No|     1|          No|No phone service|            DSL|            No|         Yes|              No|         No|         No|             No|Month-to-month|             Yes|    Electronic check|         29.85|       29.85|   No|\n",
            "|5575-GNVDE|  Male|            0|     No|        No|    34|         Yes|              No|            DSL|           Yes|          No|             Yes|         No|         No|             No|      One year|              No|        Mailed check|         56.95|      1889.5|   No|\n",
            "|3668-QPYBK|  Male|            0|     No|        No|     2|         Yes|              No|            DSL|           Yes|         Yes|              No|         No|         No|             No|Month-to-month|             Yes|        Mailed check|         53.85|      108.15|  Yes|\n",
            "|7795-CFOCW|  Male|            0|     No|        No|    45|          No|No phone service|            DSL|           Yes|          No|             Yes|        Yes|         No|             No|      One year|              No|Bank transfer (au...|          42.3|     1840.75|   No|\n",
            "|9237-HQITU|Female|            0|     No|        No|     2|         Yes|              No|    Fiber optic|            No|          No|              No|         No|         No|             No|Month-to-month|             Yes|    Electronic check|          70.7|      151.65|  Yes|\n",
            "+----------+------+-------------+-------+----------+------+------------+----------------+---------------+--------------+------------+----------------+-----------+-----------+---------------+--------------+----------------+--------------------+--------------+------------+-----+\n",
            "only showing top 5 rows\n",
            "\n"
          ],
          "name": "stdout"
        }
      ]
    },
    {
      "cell_type": "code",
      "metadata": {
        "id": "bLck6SwXmKas",
        "colab_type": "code",
        "colab": {
          "base_uri": "https://localhost:8080/",
          "height": 403
        },
        "outputId": "f3782113-dcf5-495e-a258-581618fc043a"
      },
      "source": [
        "churn_df.printSchema()"
      ],
      "execution_count": 53,
      "outputs": [
        {
          "output_type": "stream",
          "text": [
            "root\n",
            " |-- customerID: string (nullable = true)\n",
            " |-- gender: string (nullable = true)\n",
            " |-- SeniorCitizen: integer (nullable = true)\n",
            " |-- Partner: string (nullable = true)\n",
            " |-- Dependents: string (nullable = true)\n",
            " |-- tenure: integer (nullable = true)\n",
            " |-- PhoneService: string (nullable = true)\n",
            " |-- MultipleLines: string (nullable = true)\n",
            " |-- InternetService: string (nullable = true)\n",
            " |-- OnlineSecurity: string (nullable = true)\n",
            " |-- OnlineBackup: string (nullable = true)\n",
            " |-- DeviceProtection: string (nullable = true)\n",
            " |-- TechSupport: string (nullable = true)\n",
            " |-- StreamingTV: string (nullable = true)\n",
            " |-- StreamingMovies: string (nullable = true)\n",
            " |-- Contract: string (nullable = true)\n",
            " |-- PaperlessBilling: string (nullable = true)\n",
            " |-- PaymentMethod: string (nullable = true)\n",
            " |-- MonthlyCharges: double (nullable = true)\n",
            " |-- TotalCharges: string (nullable = true)\n",
            " |-- Churn: string (nullable = true)\n",
            "\n"
          ],
          "name": "stdout"
        }
      ]
    },
    {
      "cell_type": "code",
      "metadata": {
        "id": "qODw4b_NhA5o",
        "colab_type": "code",
        "colab": {}
      },
      "source": [
        "# Converting a string to double\n",
        "churn_df = churn_df.withColumn(\"TotalCharges\",churn_df[\"TotalCharges\"].cast(\"double\"))\n",
        "churn_df = churn_df.withColumn(\"SeniorCitizen\",churn_df[\"SeniorCitizen\"].cast(\"double\"))\n",
        "churn_df = churn_df.withColumn(\"tenure\",churn_df[\"tenure\"].cast(\"double\"))"
      ],
      "execution_count": 0,
      "outputs": []
    },
    {
      "cell_type": "code",
      "metadata": {
        "id": "sjFuKdvEhIe4",
        "colab_type": "code",
        "colab": {
          "base_uri": "https://localhost:8080/",
          "height": 403
        },
        "outputId": "2133186f-3a47-46ef-d9a3-4bc772008380"
      },
      "source": [
        "churn_df.printSchema()"
      ],
      "execution_count": 55,
      "outputs": [
        {
          "output_type": "stream",
          "text": [
            "root\n",
            " |-- customerID: string (nullable = true)\n",
            " |-- gender: string (nullable = true)\n",
            " |-- SeniorCitizen: double (nullable = true)\n",
            " |-- Partner: string (nullable = true)\n",
            " |-- Dependents: string (nullable = true)\n",
            " |-- tenure: double (nullable = true)\n",
            " |-- PhoneService: string (nullable = true)\n",
            " |-- MultipleLines: string (nullable = true)\n",
            " |-- InternetService: string (nullable = true)\n",
            " |-- OnlineSecurity: string (nullable = true)\n",
            " |-- OnlineBackup: string (nullable = true)\n",
            " |-- DeviceProtection: string (nullable = true)\n",
            " |-- TechSupport: string (nullable = true)\n",
            " |-- StreamingTV: string (nullable = true)\n",
            " |-- StreamingMovies: string (nullable = true)\n",
            " |-- Contract: string (nullable = true)\n",
            " |-- PaperlessBilling: string (nullable = true)\n",
            " |-- PaymentMethod: string (nullable = true)\n",
            " |-- MonthlyCharges: double (nullable = true)\n",
            " |-- TotalCharges: double (nullable = true)\n",
            " |-- Churn: string (nullable = true)\n",
            "\n"
          ],
          "name": "stdout"
        }
      ]
    },
    {
      "cell_type": "code",
      "metadata": {
        "id": "WnFHui5KhTAv",
        "colab_type": "code",
        "colab": {
          "base_uri": "https://localhost:8080/",
          "height": 34
        },
        "outputId": "78378cd8-41d6-4ccd-9590-463d02986d5c"
      },
      "source": [
        "# How large is the dataset\n",
        "churn_df.count()"
      ],
      "execution_count": 56,
      "outputs": [
        {
          "output_type": "execute_result",
          "data": {
            "text/plain": [
              "7043"
            ]
          },
          "metadata": {
            "tags": []
          },
          "execution_count": 56
        }
      ]
    },
    {
      "cell_type": "markdown",
      "metadata": {
        "id": "KvqzYA_pmYT7",
        "colab_type": "text"
      },
      "source": [
        "We are working with a large dataset with 7043 rows. We will use a sample for analysis purpose but when we start training the model we will use the entire dataset."
      ]
    },
    {
      "cell_type": "code",
      "metadata": {
        "id": "aNMvYVUOnEVM",
        "colab_type": "code",
        "colab": {}
      },
      "source": [
        "# Sampling without no replacement(False)\n",
        "sample_df = churn_df.sample(False,0.1)"
      ],
      "execution_count": 0,
      "outputs": []
    },
    {
      "cell_type": "code",
      "metadata": {
        "id": "ZxaVAY-0oBzV",
        "colab_type": "code",
        "colab": {
          "base_uri": "https://localhost:8080/",
          "height": 34
        },
        "outputId": "54aa8e02-0d97-4df7-8277-782f8c26d82d"
      },
      "source": [
        "sample_df.count()"
      ],
      "execution_count": 58,
      "outputs": [
        {
          "output_type": "execute_result",
          "data": {
            "text/plain": [
              "711"
            ]
          },
          "metadata": {
            "tags": []
          },
          "execution_count": 58
        }
      ]
    },
    {
      "cell_type": "markdown",
      "metadata": {
        "id": "ebG61yHagHm4",
        "colab_type": "text"
      },
      "source": [
        "**Data Exploration**"
      ]
    },
    {
      "cell_type": "code",
      "metadata": {
        "id": "jFfETMKCfrkK",
        "colab_type": "code",
        "colab": {
          "base_uri": "https://localhost:8080/",
          "height": 454
        },
        "outputId": "a62c9250-de80-4ffe-f20a-1366378654ca"
      },
      "source": [
        "#Predictive variable\n",
        "sample_df.select(\"Churn\").show()"
      ],
      "execution_count": 59,
      "outputs": [
        {
          "output_type": "stream",
          "text": [
            "+-----+\n",
            "|Churn|\n",
            "+-----+\n",
            "|   No|\n",
            "|  Yes|\n",
            "|   No|\n",
            "|   No|\n",
            "|   No|\n",
            "|   No|\n",
            "|   No|\n",
            "|   No|\n",
            "|  Yes|\n",
            "|  Yes|\n",
            "|  Yes|\n",
            "|   No|\n",
            "|   No|\n",
            "|   No|\n",
            "|   No|\n",
            "|   No|\n",
            "|   No|\n",
            "|   No|\n",
            "|   No|\n",
            "|   No|\n",
            "+-----+\n",
            "only showing top 20 rows\n",
            "\n"
          ],
          "name": "stdout"
        }
      ]
    },
    {
      "cell_type": "code",
      "metadata": {
        "id": "MvlZo32LvbeR",
        "colab_type": "code",
        "colab": {
          "base_uri": "https://localhost:8080/",
          "height": 185
        },
        "outputId": "a9557cc7-ada0-4126-99f4-d286699ef5e7"
      },
      "source": [
        "sample_df.describe(['Churn']).show()"
      ],
      "execution_count": 60,
      "outputs": [
        {
          "output_type": "stream",
          "text": [
            "+-------+-----+\n",
            "|summary|Churn|\n",
            "+-------+-----+\n",
            "|  count|  711|\n",
            "|   mean| null|\n",
            "| stddev| null|\n",
            "|    min|   No|\n",
            "|    max|  Yes|\n",
            "+-------+-----+\n",
            "\n"
          ],
          "name": "stdout"
        }
      ]
    },
    {
      "cell_type": "code",
      "metadata": {
        "id": "qwsr6r_l4JE4",
        "colab_type": "code",
        "colab": {
          "base_uri": "https://localhost:8080/",
          "height": 185
        },
        "outputId": "3dc9413e-4e62-44a2-eea4-ab89e3709f91"
      },
      "source": [
        "sample_df.describe(['tenure','MonthlyCharges','TotalCharges']).show()"
      ],
      "execution_count": 61,
      "outputs": [
        {
          "output_type": "stream",
          "text": [
            "+-------+------------------+------------------+------------------+\n",
            "|summary|            tenure|    MonthlyCharges|      TotalCharges|\n",
            "+-------+------------------+------------------+------------------+\n",
            "|  count|               711|               711|               711|\n",
            "|   mean|31.860759493670887| 65.32925457102674|2260.6234177215188|\n",
            "| stddev|24.939962139807548|29.729356229792774|2271.9783255009074|\n",
            "|    min|               1.0|              18.7|              19.1|\n",
            "|    max|              72.0|            117.15|            8529.5|\n",
            "+-------+------------------+------------------+------------------+\n",
            "\n"
          ],
          "name": "stdout"
        }
      ]
    },
    {
      "cell_type": "code",
      "metadata": {
        "id": "FUOcxNB-HHPL",
        "colab_type": "code",
        "colab": {}
      },
      "source": [
        "import pyspark.sql.functions as F\n",
        "def count_missings(churn_df,sort=True):\n",
        "    churn_df = churn_df.select([F.count(F.when(F.isnan(c) | F.isnull(c), c)).alias(c) for (c,c_type) in churn_df.dtypes if c_type not in ('timestamp', 'string', 'date')]).toPandas()\n",
        "\n",
        "    if len(churn_df) == 0:\n",
        "        print(\"There are no any missing values!\")\n",
        "        return None\n",
        "\n",
        "    if sort:\n",
        "        return churn_df.rename(index={0: 'count'}).T.sort_values(\"count\",ascending=False)\n",
        "\n",
        "    return churn_df"
      ],
      "execution_count": 0,
      "outputs": []
    },
    {
      "cell_type": "code",
      "metadata": {
        "id": "2f_a7ikwIFta",
        "colab_type": "code",
        "colab": {
          "base_uri": "https://localhost:8080/",
          "height": 166
        },
        "outputId": "d77893d9-711d-4681-c2d4-8b7d02035169"
      },
      "source": [
        "count_missings(churn_df)"
      ],
      "execution_count": 63,
      "outputs": [
        {
          "output_type": "execute_result",
          "data": {
            "text/html": [
              "<div>\n",
              "<style scoped>\n",
              "    .dataframe tbody tr th:only-of-type {\n",
              "        vertical-align: middle;\n",
              "    }\n",
              "\n",
              "    .dataframe tbody tr th {\n",
              "        vertical-align: top;\n",
              "    }\n",
              "\n",
              "    .dataframe thead th {\n",
              "        text-align: right;\n",
              "    }\n",
              "</style>\n",
              "<table border=\"1\" class=\"dataframe\">\n",
              "  <thead>\n",
              "    <tr style=\"text-align: right;\">\n",
              "      <th></th>\n",
              "      <th>count</th>\n",
              "    </tr>\n",
              "  </thead>\n",
              "  <tbody>\n",
              "    <tr>\n",
              "      <th>TotalCharges</th>\n",
              "      <td>11</td>\n",
              "    </tr>\n",
              "    <tr>\n",
              "      <th>SeniorCitizen</th>\n",
              "      <td>0</td>\n",
              "    </tr>\n",
              "    <tr>\n",
              "      <th>tenure</th>\n",
              "      <td>0</td>\n",
              "    </tr>\n",
              "    <tr>\n",
              "      <th>MonthlyCharges</th>\n",
              "      <td>0</td>\n",
              "    </tr>\n",
              "  </tbody>\n",
              "</table>\n",
              "</div>"
            ],
            "text/plain": [
              "                count\n",
              "TotalCharges       11\n",
              "SeniorCitizen       0\n",
              "tenure              0\n",
              "MonthlyCharges      0"
            ]
          },
          "metadata": {
            "tags": []
          },
          "execution_count": 63
        }
      ]
    },
    {
      "cell_type": "code",
      "metadata": {
        "id": "KN0Zyeuho48g",
        "colab_type": "code",
        "colab": {}
      },
      "source": [
        "# MonthlyCharges will be probably highly correlated with TotalCharges and it has missing values. We will drop the variable TotalCharges.\n",
        "churn = churn_df.drop(*['TotalCharges'])"
      ],
      "execution_count": 0,
      "outputs": []
    },
    {
      "cell_type": "code",
      "metadata": {
        "id": "0eKIKld2ahAI",
        "colab_type": "code",
        "colab": {
          "base_uri": "https://localhost:8080/",
          "height": 669
        },
        "outputId": "ec3fac30-4c5f-4835-f06c-e8b74e038ff4"
      },
      "source": [
        "churn.describe().toPandas().transpose()"
      ],
      "execution_count": 65,
      "outputs": [
        {
          "output_type": "execute_result",
          "data": {
            "text/html": [
              "<div>\n",
              "<style scoped>\n",
              "    .dataframe tbody tr th:only-of-type {\n",
              "        vertical-align: middle;\n",
              "    }\n",
              "\n",
              "    .dataframe tbody tr th {\n",
              "        vertical-align: top;\n",
              "    }\n",
              "\n",
              "    .dataframe thead th {\n",
              "        text-align: right;\n",
              "    }\n",
              "</style>\n",
              "<table border=\"1\" class=\"dataframe\">\n",
              "  <thead>\n",
              "    <tr style=\"text-align: right;\">\n",
              "      <th></th>\n",
              "      <th>0</th>\n",
              "      <th>1</th>\n",
              "      <th>2</th>\n",
              "      <th>3</th>\n",
              "      <th>4</th>\n",
              "    </tr>\n",
              "  </thead>\n",
              "  <tbody>\n",
              "    <tr>\n",
              "      <th>summary</th>\n",
              "      <td>count</td>\n",
              "      <td>mean</td>\n",
              "      <td>stddev</td>\n",
              "      <td>min</td>\n",
              "      <td>max</td>\n",
              "    </tr>\n",
              "    <tr>\n",
              "      <th>customerID</th>\n",
              "      <td>7043</td>\n",
              "      <td>None</td>\n",
              "      <td>None</td>\n",
              "      <td>0002-ORFBO</td>\n",
              "      <td>9995-HOTOH</td>\n",
              "    </tr>\n",
              "    <tr>\n",
              "      <th>gender</th>\n",
              "      <td>7043</td>\n",
              "      <td>None</td>\n",
              "      <td>None</td>\n",
              "      <td>Female</td>\n",
              "      <td>Male</td>\n",
              "    </tr>\n",
              "    <tr>\n",
              "      <th>SeniorCitizen</th>\n",
              "      <td>7043</td>\n",
              "      <td>0.1621468124378816</td>\n",
              "      <td>0.3686116056100135</td>\n",
              "      <td>0.0</td>\n",
              "      <td>1.0</td>\n",
              "    </tr>\n",
              "    <tr>\n",
              "      <th>Partner</th>\n",
              "      <td>7043</td>\n",
              "      <td>None</td>\n",
              "      <td>None</td>\n",
              "      <td>No</td>\n",
              "      <td>Yes</td>\n",
              "    </tr>\n",
              "    <tr>\n",
              "      <th>Dependents</th>\n",
              "      <td>7043</td>\n",
              "      <td>None</td>\n",
              "      <td>None</td>\n",
              "      <td>No</td>\n",
              "      <td>Yes</td>\n",
              "    </tr>\n",
              "    <tr>\n",
              "      <th>tenure</th>\n",
              "      <td>7043</td>\n",
              "      <td>32.37114865824223</td>\n",
              "      <td>24.559481023094442</td>\n",
              "      <td>0.0</td>\n",
              "      <td>72.0</td>\n",
              "    </tr>\n",
              "    <tr>\n",
              "      <th>PhoneService</th>\n",
              "      <td>7043</td>\n",
              "      <td>None</td>\n",
              "      <td>None</td>\n",
              "      <td>No</td>\n",
              "      <td>Yes</td>\n",
              "    </tr>\n",
              "    <tr>\n",
              "      <th>MultipleLines</th>\n",
              "      <td>7043</td>\n",
              "      <td>None</td>\n",
              "      <td>None</td>\n",
              "      <td>No</td>\n",
              "      <td>Yes</td>\n",
              "    </tr>\n",
              "    <tr>\n",
              "      <th>InternetService</th>\n",
              "      <td>7043</td>\n",
              "      <td>None</td>\n",
              "      <td>None</td>\n",
              "      <td>DSL</td>\n",
              "      <td>No</td>\n",
              "    </tr>\n",
              "    <tr>\n",
              "      <th>OnlineSecurity</th>\n",
              "      <td>7043</td>\n",
              "      <td>None</td>\n",
              "      <td>None</td>\n",
              "      <td>No</td>\n",
              "      <td>Yes</td>\n",
              "    </tr>\n",
              "    <tr>\n",
              "      <th>OnlineBackup</th>\n",
              "      <td>7043</td>\n",
              "      <td>None</td>\n",
              "      <td>None</td>\n",
              "      <td>No</td>\n",
              "      <td>Yes</td>\n",
              "    </tr>\n",
              "    <tr>\n",
              "      <th>DeviceProtection</th>\n",
              "      <td>7043</td>\n",
              "      <td>None</td>\n",
              "      <td>None</td>\n",
              "      <td>No</td>\n",
              "      <td>Yes</td>\n",
              "    </tr>\n",
              "    <tr>\n",
              "      <th>TechSupport</th>\n",
              "      <td>7043</td>\n",
              "      <td>None</td>\n",
              "      <td>None</td>\n",
              "      <td>No</td>\n",
              "      <td>Yes</td>\n",
              "    </tr>\n",
              "    <tr>\n",
              "      <th>StreamingTV</th>\n",
              "      <td>7043</td>\n",
              "      <td>None</td>\n",
              "      <td>None</td>\n",
              "      <td>No</td>\n",
              "      <td>Yes</td>\n",
              "    </tr>\n",
              "    <tr>\n",
              "      <th>StreamingMovies</th>\n",
              "      <td>7043</td>\n",
              "      <td>None</td>\n",
              "      <td>None</td>\n",
              "      <td>No</td>\n",
              "      <td>Yes</td>\n",
              "    </tr>\n",
              "    <tr>\n",
              "      <th>Contract</th>\n",
              "      <td>7043</td>\n",
              "      <td>None</td>\n",
              "      <td>None</td>\n",
              "      <td>Month-to-month</td>\n",
              "      <td>Two year</td>\n",
              "    </tr>\n",
              "    <tr>\n",
              "      <th>PaperlessBilling</th>\n",
              "      <td>7043</td>\n",
              "      <td>None</td>\n",
              "      <td>None</td>\n",
              "      <td>No</td>\n",
              "      <td>Yes</td>\n",
              "    </tr>\n",
              "    <tr>\n",
              "      <th>PaymentMethod</th>\n",
              "      <td>7043</td>\n",
              "      <td>None</td>\n",
              "      <td>None</td>\n",
              "      <td>Bank transfer (automatic)</td>\n",
              "      <td>Mailed check</td>\n",
              "    </tr>\n",
              "    <tr>\n",
              "      <th>MonthlyCharges</th>\n",
              "      <td>7043</td>\n",
              "      <td>64.76169246059922</td>\n",
              "      <td>30.090047097678482</td>\n",
              "      <td>18.25</td>\n",
              "      <td>118.75</td>\n",
              "    </tr>\n",
              "    <tr>\n",
              "      <th>Churn</th>\n",
              "      <td>7043</td>\n",
              "      <td>None</td>\n",
              "      <td>None</td>\n",
              "      <td>No</td>\n",
              "      <td>Yes</td>\n",
              "    </tr>\n",
              "  </tbody>\n",
              "</table>\n",
              "</div>"
            ],
            "text/plain": [
              "                      0  ...             4\n",
              "summary           count  ...           max\n",
              "customerID         7043  ...    9995-HOTOH\n",
              "gender             7043  ...          Male\n",
              "SeniorCitizen      7043  ...           1.0\n",
              "Partner            7043  ...           Yes\n",
              "Dependents         7043  ...           Yes\n",
              "tenure             7043  ...          72.0\n",
              "PhoneService       7043  ...           Yes\n",
              "MultipleLines      7043  ...           Yes\n",
              "InternetService    7043  ...            No\n",
              "OnlineSecurity     7043  ...           Yes\n",
              "OnlineBackup       7043  ...           Yes\n",
              "DeviceProtection   7043  ...           Yes\n",
              "TechSupport        7043  ...           Yes\n",
              "StreamingTV        7043  ...           Yes\n",
              "StreamingMovies    7043  ...           Yes\n",
              "Contract           7043  ...      Two year\n",
              "PaperlessBilling   7043  ...           Yes\n",
              "PaymentMethod      7043  ...  Mailed check\n",
              "MonthlyCharges     7043  ...        118.75\n",
              "Churn              7043  ...           Yes\n",
              "\n",
              "[21 rows x 5 columns]"
            ]
          },
          "metadata": {
            "tags": []
          },
          "execution_count": 65
        }
      ]
    },
    {
      "cell_type": "markdown",
      "metadata": {
        "id": "FH49Uz8fwqVe",
        "colab_type": "text"
      },
      "source": [
        "**Preparing Data for Machine Learning** "
      ]
    },
    {
      "cell_type": "code",
      "metadata": {
        "id": "lf9csXFD26nu",
        "colab_type": "code",
        "colab": {}
      },
      "source": [
        "# importing Libraries\n",
        "from pyspark.ml.classification import DecisionTreeClassifier, LogisticRegression, RandomForestClassifier\n",
        "from pyspark.ml import Pipeline\n",
        "from pyspark.ml.feature import OneHotEncoder, StringIndexer, VectorAssembler\n",
        "from pyspark.ml.evaluation import BinaryClassificationEvaluator\n",
        "from pyspark.ml.tuning import ParamGridBuilder, CrossValidator"
      ],
      "execution_count": 0,
      "outputs": []
    },
    {
      "cell_type": "code",
      "metadata": {
        "id": "uHl7IjIewkKn",
        "colab_type": "code",
        "colab": {}
      },
      "source": [
        "from pyspark.ml.feature import OneHotEncoderEstimator, StringIndexer, VectorAssembler\n",
        "catCols  = [\"customerID\",\"gender\",\"Partner\",\"Dependents\",\"PhoneService\",\"MultipleLines\",\"InternetService\",\"OnlineSecurity\",\"OnlineBackup\",\"DeviceProtection\",\"TechSupport\",\"StreamingTV\",\"StreamingMovies\",\"Contract\",\"PaperlessBilling\",\"PaymentMethod\",\"Churn\"]\n",
        "stages = []\n",
        "for categoricalCol in catCols:\n",
        "    stringIndexer = StringIndexer(inputCol = categoricalCol, outputCol = categoricalCol + 'Index')\n",
        "    encoder = OneHotEncoderEstimator(inputCols=[stringIndexer.getOutputCol()], outputCols=[categoricalCol + \"classVec\"])\n",
        "    stages += [stringIndexer, encoder]\n",
        "label_stringIdx = StringIndexer(inputCol = 'Churn', outputCol = 'label')\n",
        "stages += [label_stringIdx]\n",
        "numericCols = ['tenure', 'SeniorCitizen', 'MonthlyCharges']\n",
        "assemblerInputs = [c + \"classVec\" for c in catCols] + numericCols\n",
        "assembler = VectorAssembler(inputCols=assemblerInputs, outputCol=\"features\")\n",
        "stages += [assembler]"
      ],
      "execution_count": 0,
      "outputs": []
    },
    {
      "cell_type": "markdown",
      "metadata": {
        "id": "S9PkXlJD9g54",
        "colab_type": "text"
      },
      "source": [
        "The code above is not my own work and full credit go to databricks'official site found here.[databricks'official](https://docs.databricks.com/applications/machine-learning/mllib/binary-classification-mllib-pipelines.html) The code indexes categorical features by utilizing StringIndexer and changes indexed categories into a one hot encoded features.\n",
        "\n"
      ]
    },
    {
      "cell_type": "code",
      "metadata": {
        "id": "eWe12K7O9j6U",
        "colab_type": "code",
        "colab": {}
      },
      "source": [
        "# Specifying machine learning pipeline\n",
        "pipeline = Pipeline(stages = stages)\n",
        "pipelineModel = pipeline.fit(churn)\n",
        "churn_df = pipelineModel.transform(churn)"
      ],
      "execution_count": 0,
      "outputs": []
    },
    {
      "cell_type": "code",
      "metadata": {
        "id": "wydIk5zgAHcO",
        "colab_type": "code",
        "colab": {
          "base_uri": "https://localhost:8080/",
          "height": 34
        },
        "outputId": "f93a8cb6-fa0e-4368-a709-6abc278f120b"
      },
      "source": [
        "pipelineModel"
      ],
      "execution_count": 71,
      "outputs": [
        {
          "output_type": "execute_result",
          "data": {
            "text/plain": [
              "PipelineModel_4bf4a293bb49f6cc8873"
            ]
          },
          "metadata": {
            "tags": []
          },
          "execution_count": 71
        }
      ]
    },
    {
      "cell_type": "code",
      "metadata": {
        "id": "rwQOiwoJAhj9",
        "colab_type": "code",
        "colab": {
          "base_uri": "https://localhost:8080/",
          "height": 54
        },
        "outputId": "d8dc1dae-7a22-4119-de56-8f39665213b7"
      },
      "source": [
        "churn"
      ],
      "execution_count": 72,
      "outputs": [
        {
          "output_type": "execute_result",
          "data": {
            "text/plain": [
              "DataFrame[customerID: string, gender: string, SeniorCitizen: double, Partner: string, Dependents: string, tenure: double, PhoneService: string, MultipleLines: string, InternetService: string, OnlineSecurity: string, OnlineBackup: string, DeviceProtection: string, TechSupport: string, StreamingTV: string, StreamingMovies: string, Contract: string, PaperlessBilling: string, PaymentMethod: string, MonthlyCharges: double, Churn: string]"
            ]
          },
          "metadata": {
            "tags": []
          },
          "execution_count": 72
        }
      ]
    },
    {
      "cell_type": "code",
      "metadata": {
        "id": "uYNiSDP3A-Q8",
        "colab_type": "code",
        "colab": {}
      },
      "source": [
        "# Creating labels and features\n",
        "selectedcols = [\"label\", \"features\"] \n",
        "churn = churn_df.select(selectedcols)"
      ],
      "execution_count": 0,
      "outputs": []
    },
    {
      "cell_type": "code",
      "metadata": {
        "id": "AXg2KTYTBbMN",
        "colab_type": "code",
        "colab": {}
      },
      "source": [
        "#Spit data into training and validation set\n",
        "(trainingData, testData) = churn_df.randomSplit([0.7, 0.3],seed = 2020)"
      ],
      "execution_count": 0,
      "outputs": []
    },
    {
      "cell_type": "code",
      "metadata": {
        "id": "3gzbKgL-B01F",
        "colab_type": "code",
        "colab": {
          "base_uri": "https://localhost:8080/",
          "height": 34
        },
        "outputId": "6501693c-c938-4f3f-b262-5599602688b6"
      },
      "source": [
        "trainingData.count()"
      ],
      "execution_count": 78,
      "outputs": [
        {
          "output_type": "execute_result",
          "data": {
            "text/plain": [
              "4951"
            ]
          },
          "metadata": {
            "tags": []
          },
          "execution_count": 78
        }
      ]
    },
    {
      "cell_type": "code",
      "metadata": {
        "id": "vpmxDrQCCJ20",
        "colab_type": "code",
        "colab": {
          "base_uri": "https://localhost:8080/",
          "height": 34
        },
        "outputId": "1e6dc085-ef73-46cb-ec1e-79a60bf49250"
      },
      "source": [
        "testData.count()"
      ],
      "execution_count": 79,
      "outputs": [
        {
          "output_type": "execute_result",
          "data": {
            "text/plain": [
              "2092"
            ]
          },
          "metadata": {
            "tags": []
          },
          "execution_count": 79
        }
      ]
    },
    {
      "cell_type": "markdown",
      "metadata": {
        "id": "OiBM00UKSE6J",
        "colab_type": "text"
      },
      "source": [
        "**Random Forest**"
      ]
    },
    {
      "cell_type": "code",
      "metadata": {
        "id": "J8crH2g_SSlQ",
        "colab_type": "code",
        "colab": {}
      },
      "source": [
        "# Building a Random Forest Model\n",
        "rf = RandomForestClassifier(labelCol=\"label\",featuresCol=\"features\", maxDepth=10, maxBins=32, numTrees=20)\n"
      ],
      "execution_count": 0,
      "outputs": []
    },
    {
      "cell_type": "code",
      "metadata": {
        "id": "Kci9gk1c5frK",
        "colab_type": "code",
        "colab": {}
      },
      "source": [
        "#Training the model on training data\n",
        " rfModel = rf.fit(trainingData)"
      ],
      "execution_count": 0,
      "outputs": []
    },
    {
      "cell_type": "code",
      "metadata": {
        "id": "xhbiazO5Epll",
        "colab_type": "code",
        "colab": {
          "base_uri": "https://localhost:8080/",
          "height": 34
        },
        "outputId": "7b0f8920-4c72-4236-ce1f-a5c06992aa18"
      },
      "source": [
        " rfModel"
      ],
      "execution_count": 100,
      "outputs": [
        {
          "output_type": "execute_result",
          "data": {
            "text/plain": [
              "RandomForestClassificationModel (uid=RandomForestClassifier_4a03904b19cae2c84f69) with 20 trees"
            ]
          },
          "metadata": {
            "tags": []
          },
          "execution_count": 100
        }
      ]
    },
    {
      "cell_type": "code",
      "metadata": {
        "id": "YC4cEYeaFKi9",
        "colab_type": "code",
        "colab": {}
      },
      "source": [
        "#Predicting on the test \n",
        "predictions = rfModel.transform(testData)\n"
      ],
      "execution_count": 0,
      "outputs": []
    },
    {
      "cell_type": "code",
      "metadata": {
        "id": "9t3C7BbgFmW8",
        "colab_type": "code",
        "colab": {}
      },
      "source": [
        "# Evaluating the model using Area under the curve\n",
        " evaluator = BinaryClassificationEvaluator()\n",
        " auc = evaluator.evaluate(predictions)\n",
        "\n"
      ],
      "execution_count": 0,
      "outputs": []
    },
    {
      "cell_type": "code",
      "metadata": {
        "id": "NXorcIREGPlt",
        "colab_type": "code",
        "colab": {
          "base_uri": "https://localhost:8080/",
          "height": 34
        },
        "outputId": "68e54200-1eda-4e6c-9cce-83f271679b46"
      },
      "source": [
        "print(\"Area under the curve is : \"+str(auc)+\"s\")"
      ],
      "execution_count": 103,
      "outputs": [
        {
          "output_type": "stream",
          "text": [
            "Area under the curve is : 0.8703076128802409s\n"
          ],
          "name": "stdout"
        }
      ]
    },
    {
      "cell_type": "code",
      "metadata": {
        "id": "WJs3fCB2KU9b",
        "colab_type": "code",
        "colab": {
          "base_uri": "https://localhost:8080/",
          "height": 34
        },
        "outputId": "6f777bff-4371-49a6-8e5d-15bf7d0bfe5e"
      },
      "source": [
        "# Model Evaluation using Area Under ROC\n",
        "evaluator = BinaryClassificationEvaluator()\n",
        "print(\"Test Area Under ROC: \" + str(evaluator.evaluate(predictions, {evaluator.metricName: \"areaUnderROC\"})))\n"
      ],
      "execution_count": 106,
      "outputs": [
        {
          "output_type": "stream",
          "text": [
            "Test Area Under ROC: 0.8149677416249168\n"
          ],
          "name": "stdout"
        }
      ]
    },
    {
      "cell_type": "markdown",
      "metadata": {
        "id": "JHkymWEVNWEP",
        "colab_type": "text"
      },
      "source": [
        "**Gradient Boosted Tree Classifier**"
      ]
    },
    {
      "cell_type": "code",
      "metadata": {
        "id": "632aY5wzNwmT",
        "colab_type": "code",
        "colab": {
          "base_uri": "https://localhost:8080/",
          "height": 286
        },
        "outputId": "b874e76d-a37c-4ade-a9c3-c2cdc1829cef"
      },
      "source": [
        "from pyspark.ml.classification import GBTClassifier\n",
        "gbt = GBTClassifier(maxIter=10)\n",
        "gbtModel = gbt.fit(trainingData)\n",
        "predictions = gbtModel.transform(testData)\n",
        "predictions.select('gender', 'tenure', 'label', 'rawPrediction', 'prediction', 'probability').show(10)"
      ],
      "execution_count": 112,
      "outputs": [
        {
          "output_type": "stream",
          "text": [
            "+------+------+-----+--------------------+----------+--------------------+\n",
            "|gender|tenure|label|       rawPrediction|prediction|         probability|\n",
            "+------+------+-----+--------------------+----------+--------------------+\n",
            "|  Male|   9.0|  0.0|[1.32590267922033...|       0.0|[0.93412217565278...|\n",
            "|  Male|  13.0|  1.0|[-1.3259026792203...|       1.0|[0.06587782434721...|\n",
            "|  Male|  63.0|  0.0|[1.32590267922033...|       0.0|[0.93412217565278...|\n",
            "|Female|   7.0|  0.0|[1.32590267922033...|       0.0|[0.93412217565278...|\n",
            "|Female|  65.0|  0.0|[1.32590267922033...|       0.0|[0.93412217565278...|\n",
            "|  Male|  54.0|  0.0|[1.32590267922033...|       0.0|[0.93412217565278...|\n",
            "|Female|  34.0|  0.0|[1.32590267922033...|       0.0|[0.93412217565278...|\n",
            "|Female|  50.0|  0.0|[1.32590267922033...|       0.0|[0.93412217565278...|\n",
            "|Female|   3.0|  0.0|[1.32590267922033...|       0.0|[0.93412217565278...|\n",
            "|Female|   4.0|  1.0|[-1.3259026792203...|       1.0|[0.06587782434721...|\n",
            "+------+------+-----+--------------------+----------+--------------------+\n",
            "only showing top 10 rows\n",
            "\n"
          ],
          "name": "stdout"
        }
      ]
    },
    {
      "cell_type": "code",
      "metadata": {
        "id": "f0DIGYjwQx_U",
        "colab_type": "code",
        "colab": {
          "base_uri": "https://localhost:8080/",
          "height": 34
        },
        "outputId": "17937c10-5b4c-4e08-e078-8ad8d5cb90f5"
      },
      "source": [
        "# Evaluating Gradient Boosted Tree Classifier\n",
        "evaluator = BinaryClassificationEvaluator()\n",
        "print(\"Test Area Under ROC: \" + str(evaluator.evaluate(predictions, {evaluator.metricName: \"areaUnderROC\"})))"
      ],
      "execution_count": 113,
      "outputs": [
        {
          "output_type": "stream",
          "text": [
            "Test Area Under ROC: 1.0\n"
          ],
          "name": "stdout"
        }
      ]
    },
    {
      "cell_type": "markdown",
      "metadata": {
        "id": "4ooc0UN_Rjal",
        "colab_type": "text"
      },
      "source": [
        "Gradient Boosting Produces the best results with 93 % Accuracy"
      ]
    }
  ]
}